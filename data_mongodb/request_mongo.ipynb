{
 "cells": [
  {
   "cell_type": "markdown",
   "metadata": {},
   "source": [
    "Codigo que irar iterar sobre todos os documentos no mongoDB e fazer um post com o requests para a api \n",
    "url = 'http://localhost:8000/projeto/'\n"
   ]
  },
  {
   "cell_type": "code",
   "execution_count": null,
   "metadata": {},
   "outputs": [],
   "source": [
    "import requests\n",
    "conteudo = requests.get('http://localhost:8000/projeto/').json()\n",
    "for key,value in conteudo[0].items():\n",
    "    print(f'{key} : {value}')"
   ]
  },
  {
   "cell_type": "code",
   "execution_count": null,
   "metadata": {},
   "outputs": [],
   "source": [
    "import requests\n",
    "url = 'http://localhost:8000/projeto/'\n",
    "data = {\n",
    "        \"nome\": \"Projeto\",\n",
    "        \"categoria_premiacao\": \"Esse foi enviado com o post\",\n",
    "        \"escola\": \"Casa de Richard\",\n",
    "        \"cidade\": \"Natal\",\n",
    "        \"estado\": \"Rio Grande Do Norte(RN)\",\n",
    "        \"ano\": \"2024\"\n",
    "    }\n",
    "response = requests.post(url, json=data)"
   ]
  }
 ],
 "metadata": {
  "language_info": {
   "name": "python"
  }
 },
 "nbformat": 4,
 "nbformat_minor": 2
}
