{
 "cells": [
  {
   "cell_type": "code",
   "execution_count": 1,
   "metadata": {},
   "outputs": [
    {
     "data": {
      "text/html": [
       "<div>\n",
       "<style scoped>\n",
       "    .dataframe tbody tr th:only-of-type {\n",
       "        vertical-align: middle;\n",
       "    }\n",
       "\n",
       "    .dataframe tbody tr th {\n",
       "        vertical-align: top;\n",
       "    }\n",
       "\n",
       "    .dataframe thead th {\n",
       "        text-align: right;\n",
       "    }\n",
       "</style>\n",
       "<table border=\"1\" class=\"dataframe\">\n",
       "  <thead>\n",
       "    <tr style=\"text-align: right;\">\n",
       "      <th></th>\n",
       "      <th>Categoria_de_premiação</th>\n",
       "      <th>Nome_do_projeto</th>\n",
       "      <th>Escola</th>\n",
       "      <th>Cidade</th>\n",
       "      <th>Estado</th>\n",
       "      <th>Ano</th>\n",
       "    </tr>\n",
       "  </thead>\n",
       "  <tbody>\n",
       "    <tr>\n",
       "      <th>703</th>\n",
       "      <td>3º Lugar em Mentalidade Marítima</td>\n",
       "      <td>Qualidade ambiental das areias de praia do lit...</td>\n",
       "      <td>IFRS - Campus Osório</td>\n",
       "      <td>Osorio</td>\n",
       "      <td>Rio Grande do Sul (RS)</td>\n",
       "      <td>2019</td>\n",
       "    </tr>\n",
       "    <tr>\n",
       "      <th>456</th>\n",
       "      <td>Prêmio SBBq</td>\n",
       "      <td>Triagem de actinomicetos com atividade proteol...</td>\n",
       "      <td>CEFET-MG - Campus VIII</td>\n",
       "      <td>Varginha</td>\n",
       "      <td>Minas Gerais (MG)</td>\n",
       "      <td>2020</td>\n",
       "    </tr>\n",
       "  </tbody>\n",
       "</table>\n",
       "</div>"
      ],
      "text/plain": [
       "                Categoria_de_premiação  \\\n",
       "703  3º Lugar em Mentalidade Marítima    \n",
       "456                       Prêmio SBBq    \n",
       "\n",
       "                                       Nome_do_projeto  \\\n",
       "703  Qualidade ambiental das areias de praia do lit...   \n",
       "456  Triagem de actinomicetos com atividade proteol...   \n",
       "\n",
       "                     Escola     Cidade                  Estado   Ano  \n",
       "703    IFRS - Campus Osório     Osorio  Rio Grande do Sul (RS)  2019  \n",
       "456  CEFET-MG - Campus VIII   Varginha       Minas Gerais (MG)  2020  "
      ]
     },
     "execution_count": 1,
     "metadata": {},
     "output_type": "execute_result"
    }
   ],
   "source": [
    "import pandas as pd\n",
    "df = pd.read_csv('Database_Febrace.tabela_premiados.csv')\n",
    "del df['_id']\n",
    "df.sample(2)"
   ]
  },
  {
   "cell_type": "markdown",
   "metadata": {},
   "source": [
    "Linhas com cidade com erro,e além disso estado foi coletado Tocatins para todas elas por algum motivo"
   ]
  },
  {
   "cell_type": "code",
   "execution_count": 2,
   "metadata": {},
   "outputs": [
    {
     "data": {
      "text/html": [
       "<div>\n",
       "<style scoped>\n",
       "    .dataframe tbody tr th:only-of-type {\n",
       "        vertical-align: middle;\n",
       "    }\n",
       "\n",
       "    .dataframe tbody tr th {\n",
       "        vertical-align: top;\n",
       "    }\n",
       "\n",
       "    .dataframe thead th {\n",
       "        text-align: right;\n",
       "    }\n",
       "</style>\n",
       "<table border=\"1\" class=\"dataframe\">\n",
       "  <thead>\n",
       "    <tr style=\"text-align: right;\">\n",
       "      <th></th>\n",
       "      <th>Categoria_de_premiação</th>\n",
       "      <th>Nome_do_projeto</th>\n",
       "      <th>Escola</th>\n",
       "      <th>Cidade</th>\n",
       "      <th>Estado</th>\n",
       "      <th>Ano</th>\n",
       "    </tr>\n",
       "  </thead>\n",
       "  <tbody>\n",
       "    <tr>\n",
       "      <th>973</th>\n",
       "      <td>4o. Lugar em Engenharia</td>\n",
       "      <td>CoLiBRI: controle remoto para pessoas com limi...</td>\n",
       "      <td>Instituto Federal de Educação</td>\n",
       "      <td>Ciência E Tecnologia Baiano - Campus Valença</td>\n",
       "      <td>Tocantins (TO)</td>\n",
       "      <td>2018</td>\n",
       "    </tr>\n",
       "    <tr>\n",
       "      <th>936</th>\n",
       "      <td>2o. Lugar em Mentalidade Marítima</td>\n",
       "      <td>Ciclo ambiental polimérico: produzindo materia...</td>\n",
       "      <td>Instituto Federal de Educação</td>\n",
       "      <td>Ciência E Tecnologia Do Ceará - Campus Limoei...</td>\n",
       "      <td>Tocantins (TO)</td>\n",
       "      <td>2018</td>\n",
       "    </tr>\n",
       "  </tbody>\n",
       "</table>\n",
       "</div>"
      ],
      "text/plain": [
       "                 Categoria_de_premiação  \\\n",
       "973            4o. Lugar em Engenharia    \n",
       "936  2o. Lugar em Mentalidade Marítima    \n",
       "\n",
       "                                       Nome_do_projeto  \\\n",
       "973  CoLiBRI: controle remoto para pessoas com limi...   \n",
       "936  Ciclo ambiental polimérico: produzindo materia...   \n",
       "\n",
       "                            Escola  \\\n",
       "973  Instituto Federal de Educação   \n",
       "936  Instituto Federal de Educação   \n",
       "\n",
       "                                                Cidade          Estado   Ano  \n",
       "973       Ciência E Tecnologia Baiano - Campus Valença  Tocantins (TO)  2018  \n",
       "936   Ciência E Tecnologia Do Ceará - Campus Limoei...  Tocantins (TO)  2018  "
      ]
     },
     "execution_count": 2,
     "metadata": {},
     "output_type": "execute_result"
    }
   ],
   "source": [
    "cidades_erros = df[df['Cidade'].str.contains('Ciência')]\n",
    "cidades_erros.sample(2)"
   ]
  },
  {
   "cell_type": "markdown",
   "metadata": {},
   "source": [
    "O codigo abaixo concerta Cidade"
   ]
  },
  {
   "cell_type": "code",
   "execution_count": 3,
   "metadata": {},
   "outputs": [],
   "source": [
    "for i in cidades_erros.itertuples():\n",
    "    if 'Campus ' in str(i.Cidade):\n",
    "        cidade = i.Cidade.split('Campus')[1].strip()\n",
    "        cidade = cidade.split('-')[0].strip()\n",
    "        df.loc[i.Index,'Cidade'] = cidade\n",
    "    if 'Unidade' in str(i.Cidade):\n",
    "        cidade = i.Cidade.split('Unidade')[1].strip()\n",
    "        cidade = cidade.split('-')[0].strip()\n",
    "        df.loc[i.Index,'Cidade'] = cidade"
   ]
  },
  {
   "cell_type": "markdown",
   "metadata": {},
   "source": [
    "O codigo abaixo concerta Estado"
   ]
  },
  {
   "cell_type": "code",
   "execution_count": 4,
   "metadata": {},
   "outputs": [],
   "source": [
    "def formatar_estado(estado):\n",
    "    estados_abreviados = {\n",
    "        \"Acre\": \"AC\",\n",
    "        \"Alagoas\": \"AL\",\n",
    "        \"Amapá\": \"AP\",\n",
    "        \"Amazonas\": \"AM\",\n",
    "        \"Bahia\": \"BA\",\n",
    "        \"Ceará\": \"CE\",\n",
    "        \"Distrito Federal\": \"DF\",\n",
    "        \"Espírito Santo\": \"ES\",\n",
    "        \"Goiás\": \"GO\",\n",
    "        \"Maranhão\": \"MA\",\n",
    "        \"Mato Grosso\": \"MT\",\n",
    "        \"Mato Grosso Do Sul\": \"MS\",\n",
    "        \"Minas Gerais\": \"MG\",\n",
    "        \"Pará\": \"PA\",\n",
    "        \"Paraíba\": \"PB\",\n",
    "        \"Paraná\": \"PR\",\n",
    "        \"Pernambuco\": \"PE\",\n",
    "        \"Piauí\": \"PI\",\n",
    "        \"Rio De Janeiro\": \"RJ\",\n",
    "        \"Rio Grande Do Norte\": \"RN\",\n",
    "        \"Rio Grande Do Sul\": \"RS\",\n",
    "        \"Rondônia\": \"RO\",\n",
    "        \"Roraima\": \"RR\",\n",
    "        \"Santa Catarina\": \"SC\",\n",
    "        \"São Paulo\": \"SP\",\n",
    "        \"Sergipe\": \"SE\",\n",
    "        \"Tocantins\": \"TO\"\n",
    "    }\n",
    "\n",
    "    # Verifica se o estado está na lista de estados abreviados\n",
    "    if estado in estados_abreviados:\n",
    "        return estado + \"(\" + estados_abreviados[estado] + \")\"\n",
    "    if estado == \"Brasília\":\n",
    "        return \"Distrito Federal(DF)\"\n",
    "    else:\n",
    "        return estado"
   ]
  },
  {
   "cell_type": "code",
   "execution_count": 5,
   "metadata": {},
   "outputs": [
    {
     "name": "stdout",
     "output_type": "stream",
     "text": [
      "Rio Grande Do Sul(RS)\n",
      "Distrito Federal(DF)\n",
      "Distrito Federal(DF)\n",
      "Distrito Federal(DF)\n",
      "Distrito Federal(DF)\n",
      "Distrito Federal(DF)\n",
      "Mato Grosso Do Sul(MS)\n",
      "Rio Grande Do Norte(RN)\n",
      "Rio Grande Do Sul(RS)\n",
      "Ceará(CE)\n",
      "Mato Grosso Do Sul(MS)\n",
      "Mato Grosso Do Sul(MS)\n",
      "Ceará(CE)\n",
      "Mato Grosso Do Sul(MS)\n",
      "Mato Grosso Do Sul(MS)\n",
      "Mato Grosso Do Sul(MS)\n",
      "Mato Grosso Do Sul(MS)\n",
      "Rio Grande Do Norte(RN)\n",
      "Mato Grosso Do Sul(MS)\n",
      "Mato Grosso Do Sul(MS)\n",
      "Rio Grande Do Sul(RS)\n",
      "Rio De Janeiro(RJ)\n",
      "Rio De Janeiro(RJ)\n",
      "Mato Grosso Do Sul(MS)\n",
      "Mato Grosso Do Sul(MS)\n",
      "Mato Grosso Do Sul(MS)\n",
      "Mato Grosso Do Sul(MS)\n",
      "Ceará(CE)\n",
      "Rio Grande Do Sul(RS)\n",
      "Mato Grosso Do Sul(MS)\n",
      "Mato Grosso Do Sul(MS)\n",
      "Mato Grosso Do Sul(MS)\n",
      "Mato Grosso Do Sul(MS)\n",
      "Rio Grande Do Sul(RS)\n",
      "Mato Grosso Do Sul(MS)\n",
      "Mato Grosso Do Sul(MS)\n",
      "Mato Grosso Do Sul(MS)\n",
      "Mato Grosso Do Sul(MS)\n",
      "Rio Grande Do Sul(RS)\n",
      "Rio De Janeiro(RJ)\n",
      "Rio De Janeiro(RJ)\n",
      "Rio De Janeiro(RJ)\n",
      "Rio De Janeiro(RJ)\n",
      "Rio De Janeiro(RJ)\n",
      "Rio De Janeiro(RJ)\n",
      "Rio Grande Do Sul(RS)\n",
      "Rio Grande Do Sul(RS)\n",
      "Ceará(CE)\n",
      "Mato Grosso Do Sul(MS)\n",
      "Mato Grosso Do Sul(MS)\n"
     ]
    }
   ],
   "source": [
    "for i in cidades_erros.itertuples():\n",
    "    if 'Do' in i.Cidade:\n",
    "        estado = i.Cidade.split('-')[0].replace('Ciência E Tecnologia Do','').strip()\n",
    "        if 'Ciência E Tecnologia' in estado:\n",
    "            estado = estado.replace('Ciência E Tecnologia De','').replace('Ciência E Tecnologia Do','').strip()\n",
    "        print(formatar_estado(estado))\n",
    "        df.loc[i.Index,'Estado']\n",
    "    if 'De' in i.Cidade:\n",
    "        estado = i.Cidade.split('-')[0].replace('Ciência E Tecnologia De','').strip()\n",
    "        if 'Ciência E Tecnologia' in estado:\n",
    "            estado = estado.replace('Ciência E Tecnologia De','').replace('Ciência E Tecnologia Do','').strip()\n",
    "        print(formatar_estado(estado))\n",
    "        df.loc[i.Index,'Estado']"
   ]
  },
  {
   "cell_type": "code",
   "execution_count": 10,
   "metadata": {},
   "outputs": [
    {
     "name": "stdout",
     "output_type": "stream",
     "text": [
      "25 84\n"
     ]
    }
   ],
   "source": [
    "maior_tamanho = 0\n",
    "for i in df.itertuples():\n",
    "    if len(i.Cidade) > maior_tamanho:\n",
    "        maior_tamanho = len(i.Cidade)\n",
    "        x = i.Index\n",
    "print(maior_tamanho,x)"
   ]
  },
  {
   "cell_type": "code",
   "execution_count": 13,
   "metadata": {},
   "outputs": [],
   "source": [
    "df.to_csv('dados_febrace_tratados(1).csv',index=False)"
   ]
  },
  {
   "cell_type": "markdown",
   "metadata": {},
   "source": [
    "Checkpoint das alterações até agora"
   ]
  },
  {
   "cell_type": "code",
   "execution_count": 18,
   "metadata": {},
   "outputs": [
    {
     "data": {
      "text/html": [
       "<div>\n",
       "<style scoped>\n",
       "    .dataframe tbody tr th:only-of-type {\n",
       "        vertical-align: middle;\n",
       "    }\n",
       "\n",
       "    .dataframe tbody tr th {\n",
       "        vertical-align: top;\n",
       "    }\n",
       "\n",
       "    .dataframe thead th {\n",
       "        text-align: right;\n",
       "    }\n",
       "</style>\n",
       "<table border=\"1\" class=\"dataframe\">\n",
       "  <thead>\n",
       "    <tr style=\"text-align: right;\">\n",
       "      <th></th>\n",
       "      <th>Categoria_de_premiação</th>\n",
       "      <th>Nome_do_projeto</th>\n",
       "      <th>Escola</th>\n",
       "      <th>Cidade</th>\n",
       "      <th>Estado</th>\n",
       "      <th>Ano</th>\n",
       "    </tr>\n",
       "  </thead>\n",
       "  <tbody>\n",
       "    <tr>\n",
       "      <th>99</th>\n",
       "      <td>Prêmio MCTIA</td>\n",
       "      <td>Dispositivo detector de prováveis desmaios</td>\n",
       "      <td>CEFET-MG - Unidade BH - Campus II</td>\n",
       "      <td>Belo Horizonte</td>\n",
       "      <td>Minas Gerais (MG)</td>\n",
       "      <td>2023</td>\n",
       "    </tr>\n",
       "    <tr>\n",
       "      <th>461</th>\n",
       "      <td>Prêmio Destaque do Ano Ciências Moleculares - ...</td>\n",
       "      <td>Sistema agrícola integrado: alternativa introd...</td>\n",
       "      <td>E.E. Prof. Gabriel de Almeida Café</td>\n",
       "      <td>Macapa</td>\n",
       "      <td>Amapá (AP)</td>\n",
       "      <td>2020</td>\n",
       "    </tr>\n",
       "  </tbody>\n",
       "</table>\n",
       "</div>"
      ],
      "text/plain": [
       "                                Categoria_de_premiação  \\\n",
       "99                                        Prêmio MCTIA   \n",
       "461  Prêmio Destaque do Ano Ciências Moleculares - ...   \n",
       "\n",
       "                                       Nome_do_projeto  \\\n",
       "99         Dispositivo detector de prováveis desmaios    \n",
       "461  Sistema agrícola integrado: alternativa introd...   \n",
       "\n",
       "                                 Escola            Cidade             Estado  \\\n",
       "99    CEFET-MG - Unidade BH - Campus II   Belo Horizonte   Minas Gerais (MG)   \n",
       "461  E.E. Prof. Gabriel de Almeida Café            Macapa         Amapá (AP)   \n",
       "\n",
       "      Ano  \n",
       "99   2023  \n",
       "461  2020  "
      ]
     },
     "execution_count": 18,
     "metadata": {},
     "output_type": "execute_result"
    }
   ],
   "source": [
    "import pandas as pd\n",
    "df = pd.read_csv('dados_febrace_tratados(1).csv')\n",
    "df.sample(2)"
   ]
  },
  {
   "cell_type": "code",
   "execution_count": null,
   "metadata": {},
   "outputs": [],
   "source": [
    "def fibonacci(x):\n",
    "    print(x)"
   ]
  }
 ],
 "metadata": {
  "kernelspec": {
   "display_name": "venv",
   "language": "python",
   "name": "python3"
  },
  "language_info": {
   "codemirror_mode": {
    "name": "ipython",
    "version": 3
   },
   "file_extension": ".py",
   "mimetype": "text/x-python",
   "name": "python",
   "nbconvert_exporter": "python",
   "pygments_lexer": "ipython3",
   "version": "3.12.3"
  }
 },
 "nbformat": 4,
 "nbformat_minor": 2
}
